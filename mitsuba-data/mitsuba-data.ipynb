{
 "cells": [
  {
   "cell_type": "markdown",
   "metadata": {},
   "source": [
    "## Mitsuba Data Generation\n",
    "\n",
    "Generates noisy/clean pairs from Benedikt Bitterli Rendering Resources (https://benedikt-bitterli.me/resources/)"
   ]
  },
  {
   "cell_type": "code",
   "execution_count": 1,
   "metadata": {},
   "outputs": [],
   "source": [
    "import mitsuba as mi\n",
    "import zipfile\n",
    "import tempfile\n",
    "import os\n",
    "import numpy as np\n",
    "from PIL import Image\n",
    "\n",
    "mi.set_variant('scalar_rgb')"
   ]
  },
  {
   "cell_type": "code",
   "execution_count": 2,
   "metadata": {},
   "outputs": [],
   "source": [
    "def load_scene_from_folder(folder_path):\n",
    "    folder_to_search = folder_path  # Use original folder directly\n",
    "\n",
    "    # Try to find the XML scene file\n",
    "    xml_files = [f for f in os.listdir(folder_to_search) if f.endswith('.xml')]\n",
    "    if not xml_files:\n",
    "        raise FileNotFoundError(\"No .xml scene file found in folder.\")\n",
    "    \n",
    "    scene_path = os.path.join(folder_to_search, xml_files[0])\n",
    "    scene = mi.load_file(scene_path)\n",
    "    \n",
    "    return scene, folder_to_search"
   ]
  },
  {
   "cell_type": "code",
   "execution_count": 3,
   "metadata": {},
   "outputs": [],
   "source": [
    "def render_photon_tensor(scene, num_frames=3, spp_per_frame=1):\n",
    "    sensor = scene.sensors()[0]\n",
    "    film = sensor.film()\n",
    "    res = film.crop_size()\n",
    "    print(f\"Rendering resolution: {res}\")\n",
    "\n",
    "    T, H, W = num_frames, res[1], res[0]\n",
    "    photon_tensor = np.zeros((T, H, W, 3), dtype=np.float32)\n",
    "\n",
    "    for t in range(num_frames):\n",
    "        print(f\"Rendering frame {t + 1}/{num_frames}\")\n",
    "\n",
    "        # Set a new random seed for stochastic samples\n",
    "        sensor.sampler().seed(t)\n",
    "\n",
    "        film.clear()\n",
    "        mi.render(scene, sensor=sensor)\n",
    "        bmp = film.bitmap(raw=True).convert(mi.Bitmap.PixelFormat.RGB, mi.Struct.Type.Float32)\n",
    "        img_np = np.array(bmp)\n",
    "        photon_tensor[t] = img_np\n",
    "    \n",
    "    return photon_tensor\n"
   ]
  },
  {
   "cell_type": "code",
   "execution_count": 4,
   "metadata": {},
   "outputs": [],
   "source": [
    "def save_photon_tensor(tensor, out_dir=\"output_frames\", prefix=\"frame\"):\n",
    "    os.makedirs(out_dir, exist_ok=True)\n",
    "    for t in range(tensor.shape[0]):\n",
    "        img = (np.clip(tensor[t], 0, 1) * 255).astype(np.uint8)\n",
    "        Image.fromarray(img).save(os.path.join(out_dir, f\"{prefix}_{t:02d}.png\"))\n",
    "    np.save(os.path.join(out_dir, \"photon_tensor.npy\"), tensor)\n",
    "    print(f\"Saved photon tensor and {tensor.shape[0]} frames.\")"
   ]
  },
  {
   "cell_type": "code",
   "execution_count": 5,
   "metadata": {},
   "outputs": [
    {
     "name": "stdout",
     "output_type": "stream",
     "text": [
      "Rendering resolution: [1280, 720]\n",
      "Rendering frame 1/1\n",
      "Saved photon tensor and 1 frames.\n"
     ]
    }
   ],
   "source": [
    "zip_file_path = \"spaceship\"\n",
    "\n",
    "scene, temp_dir = load_scene_from_folder(zip_file_path)\n",
    "photon_tensor = render_photon_tensor(scene, num_frames=1, spp_per_frame=1)\n",
    "save_photon_tensor(photon_tensor, out_dir=\"spaceship-output\")"
   ]
  },
  {
   "cell_type": "code",
   "execution_count": 6,
   "metadata": {},
   "outputs": [
    {
     "name": "stdout",
     "output_type": "stream",
     "text": [
      "Shape: (1, 720, 1280, 3)\n",
      "Data type: float32\n",
      "\n",
      "Sample values:\n",
      "[[0.01842426 0.01842426 0.0184283 ]]\n"
     ]
    }
   ],
   "source": [
    "data = np.load(\"spaceship-output/photon_tensor.npy\")\n",
    "\n",
    "print(\"Shape:\", data.shape)\n",
    "print(\"Data type:\", data.dtype)\n",
    "\n",
    "print(\"\\nSample values:\")\n",
    "print(data[:, 5, 5, :])"
   ]
  },
  {
   "cell_type": "code",
   "execution_count": 7,
   "metadata": {},
   "outputs": [
    {
     "name": "stdout",
     "output_type": "stream",
     "text": [
      "Rendering resolution: [1280, 720]\n",
      "Rendering frame 1/1\n",
      "Saved photon tensor and 1 frames.\n"
     ]
    }
   ],
   "source": [
    "zip_file_path = \"water\"\n",
    "\n",
    "scene, temp_dir = load_scene_from_folder(zip_file_path)\n",
    "photon_tensor = render_photon_tensor(scene, num_frames=1, spp_per_frame=1)\n",
    "save_photon_tensor(photon_tensor, out_dir=\"water-output\")"
   ]
  },
  {
   "cell_type": "code",
   "execution_count": 8,
   "metadata": {},
   "outputs": [
    {
     "name": "stdout",
     "output_type": "stream",
     "text": [
      "Shape: (1, 720, 1280, 3)\n",
      "Data type: float32\n",
      "\n",
      "Sample values:\n",
      "[[0.01534068 0.02325414 0.02874304]]\n"
     ]
    }
   ],
   "source": [
    "data = np.load(\"water-output/photon_tensor.npy\")\n",
    "\n",
    "print(\"Shape:\", data.shape)\n",
    "print(\"Data type:\", data.dtype)\n",
    "\n",
    "print(\"\\nSample values:\")\n",
    "print(data[:, 5, 5, :])"
   ]
  }
 ],
 "metadata": {
  "kernelspec": {
   "display_name": "gap",
   "language": "python",
   "name": "python3"
  },
  "language_info": {
   "codemirror_mode": {
    "name": "ipython",
    "version": 3
   },
   "file_extension": ".py",
   "mimetype": "text/x-python",
   "name": "python",
   "nbconvert_exporter": "python",
   "pygments_lexer": "ipython3",
   "version": "3.9.21"
  }
 },
 "nbformat": 4,
 "nbformat_minor": 2
}
